{
 "cells": [
  {
   "cell_type": "code",
   "execution_count": 78,
   "id": "a1f2ed56",
   "metadata": {},
   "outputs": [],
   "source": [
    "import numpy as np\n",
    "from Pyfhel.util import ENCODING_t\n",
    "from Pyfhel import PyCtxt, Pyfhel, PyPtxt\n",
    "import requests\n",
    "import time\n",
    "from sklearn import datasets"
   ]
  },
  {
   "cell_type": "code",
   "execution_count": 88,
   "id": "1a2e2295",
   "metadata": {},
   "outputs": [],
   "source": [
    "pyfhel = Pyfhel()\n",
    "pyfhel.contextGen(p=65537, m=32768, base=2, sec=128, intDigits=64, fracDigits = 32) # m = 4096\n",
    "#pyfhel.contextGen(p=65537, m=2**12, base=2, sec=128, intDigits=64, fracDigits = 32)\n",
    "\n",
    "# 2 ^ 15 = 32768\n",
    "# Change m to 2 ^ 10 and 2 ^ 12 to see how it affects the runtime\n",
    "pyfhel.keyGen()\n",
    "pyfhel.relinKeyGen(15,3)"
   ]
  },
  {
   "cell_type": "code",
   "execution_count": 92,
   "id": "c8d6a5ef",
   "metadata": {},
   "outputs": [
    {
     "name": "stdout",
     "output_type": "stream",
     "text": [
      "150\n"
     ]
    }
   ],
   "source": [
    "iris = datasets.load_iris()\n",
    "print(len(iris.data))"
   ]
  },
  {
   "cell_type": "code",
   "execution_count": 93,
   "id": "03b6e634",
   "metadata": {},
   "outputs": [
    {
     "name": "stdout",
     "output_type": "stream",
     "text": [
      "5.555014076\n"
     ]
    }
   ],
   "source": [
    "test_input = np.array([6.7, 3.1, 4.7, 1.5])\n",
    "result = 0.41269119*test_input[0] - 0.84800177*test_input[1] + 2.21345685*test_input[2] + 0.91860495*test_input[3] - 6.36236603\n",
    "\n",
    "print(result)"
   ]
  },
  {
   "cell_type": "code",
   "execution_count": 72,
   "id": "0bbec282",
   "metadata": {},
   "outputs": [
    {
     "name": "stdout",
     "output_type": "stream",
     "text": [
      "Time elapsed for 150 plaintext instances: 0.000376 seconds\n"
     ]
    },
    {
     "ename": "ConnectionError",
     "evalue": "HTTPConnectionPool(host='35.225.238.33', port=8080): Max retries exceeded with url: /register_key (Caused by NewConnectionError('<urllib3.connection.HTTPConnection object at 0x7fec6cd6dd30>: Failed to establish a new connection: [Errno 111] Connection refused'))",
     "output_type": "error",
     "traceback": [
      "\u001b[0;31m---------------------------------------------------------------------------\u001b[0m",
      "\u001b[0;31mConnectionRefusedError\u001b[0m                    Traceback (most recent call last)",
      "File \u001b[0;32m/usr/local/lib/python3.8/dist-packages/urllib3/connection.py:174\u001b[0m, in \u001b[0;36mHTTPConnection._new_conn\u001b[0;34m(self)\u001b[0m\n\u001b[1;32m    173\u001b[0m \u001b[38;5;28;01mtry\u001b[39;00m:\n\u001b[0;32m--> 174\u001b[0m     conn \u001b[38;5;241m=\u001b[39m \u001b[43mconnection\u001b[49m\u001b[38;5;241;43m.\u001b[39;49m\u001b[43mcreate_connection\u001b[49m\u001b[43m(\u001b[49m\n\u001b[1;32m    175\u001b[0m \u001b[43m        \u001b[49m\u001b[43m(\u001b[49m\u001b[38;5;28;43mself\u001b[39;49m\u001b[38;5;241;43m.\u001b[39;49m\u001b[43m_dns_host\u001b[49m\u001b[43m,\u001b[49m\u001b[43m \u001b[49m\u001b[38;5;28;43mself\u001b[39;49m\u001b[38;5;241;43m.\u001b[39;49m\u001b[43mport\u001b[49m\u001b[43m)\u001b[49m\u001b[43m,\u001b[49m\u001b[43m \u001b[49m\u001b[38;5;28;43mself\u001b[39;49m\u001b[38;5;241;43m.\u001b[39;49m\u001b[43mtimeout\u001b[49m\u001b[43m,\u001b[49m\u001b[43m \u001b[49m\u001b[38;5;241;43m*\u001b[39;49m\u001b[38;5;241;43m*\u001b[39;49m\u001b[43mextra_kw\u001b[49m\n\u001b[1;32m    176\u001b[0m \u001b[43m    \u001b[49m\u001b[43m)\u001b[49m\n\u001b[1;32m    178\u001b[0m \u001b[38;5;28;01mexcept\u001b[39;00m SocketTimeout:\n",
      "File \u001b[0;32m/usr/local/lib/python3.8/dist-packages/urllib3/util/connection.py:95\u001b[0m, in \u001b[0;36mcreate_connection\u001b[0;34m(address, timeout, source_address, socket_options)\u001b[0m\n\u001b[1;32m     94\u001b[0m \u001b[38;5;28;01mif\u001b[39;00m err \u001b[38;5;129;01mis\u001b[39;00m \u001b[38;5;129;01mnot\u001b[39;00m \u001b[38;5;28;01mNone\u001b[39;00m:\n\u001b[0;32m---> 95\u001b[0m     \u001b[38;5;28;01mraise\u001b[39;00m err\n\u001b[1;32m     97\u001b[0m \u001b[38;5;28;01mraise\u001b[39;00m socket\u001b[38;5;241m.\u001b[39merror(\u001b[38;5;124m\"\u001b[39m\u001b[38;5;124mgetaddrinfo returns an empty list\u001b[39m\u001b[38;5;124m\"\u001b[39m)\n",
      "File \u001b[0;32m/usr/local/lib/python3.8/dist-packages/urllib3/util/connection.py:85\u001b[0m, in \u001b[0;36mcreate_connection\u001b[0;34m(address, timeout, source_address, socket_options)\u001b[0m\n\u001b[1;32m     84\u001b[0m     sock\u001b[38;5;241m.\u001b[39mbind(source_address)\n\u001b[0;32m---> 85\u001b[0m \u001b[43msock\u001b[49m\u001b[38;5;241;43m.\u001b[39;49m\u001b[43mconnect\u001b[49m\u001b[43m(\u001b[49m\u001b[43msa\u001b[49m\u001b[43m)\u001b[49m\n\u001b[1;32m     86\u001b[0m \u001b[38;5;28;01mreturn\u001b[39;00m sock\n",
      "\u001b[0;31mConnectionRefusedError\u001b[0m: [Errno 111] Connection refused",
      "\nDuring handling of the above exception, another exception occurred:\n",
      "\u001b[0;31mNewConnectionError\u001b[0m                        Traceback (most recent call last)",
      "File \u001b[0;32m/usr/local/lib/python3.8/dist-packages/urllib3/connectionpool.py:703\u001b[0m, in \u001b[0;36mHTTPConnectionPool.urlopen\u001b[0;34m(self, method, url, body, headers, retries, redirect, assert_same_host, timeout, pool_timeout, release_conn, chunked, body_pos, **response_kw)\u001b[0m\n\u001b[1;32m    702\u001b[0m \u001b[38;5;66;03m# Make the request on the httplib connection object.\u001b[39;00m\n\u001b[0;32m--> 703\u001b[0m httplib_response \u001b[38;5;241m=\u001b[39m \u001b[38;5;28;43mself\u001b[39;49m\u001b[38;5;241;43m.\u001b[39;49m\u001b[43m_make_request\u001b[49m\u001b[43m(\u001b[49m\n\u001b[1;32m    704\u001b[0m \u001b[43m    \u001b[49m\u001b[43mconn\u001b[49m\u001b[43m,\u001b[49m\n\u001b[1;32m    705\u001b[0m \u001b[43m    \u001b[49m\u001b[43mmethod\u001b[49m\u001b[43m,\u001b[49m\n\u001b[1;32m    706\u001b[0m \u001b[43m    \u001b[49m\u001b[43murl\u001b[49m\u001b[43m,\u001b[49m\n\u001b[1;32m    707\u001b[0m \u001b[43m    \u001b[49m\u001b[43mtimeout\u001b[49m\u001b[38;5;241;43m=\u001b[39;49m\u001b[43mtimeout_obj\u001b[49m\u001b[43m,\u001b[49m\n\u001b[1;32m    708\u001b[0m \u001b[43m    \u001b[49m\u001b[43mbody\u001b[49m\u001b[38;5;241;43m=\u001b[39;49m\u001b[43mbody\u001b[49m\u001b[43m,\u001b[49m\n\u001b[1;32m    709\u001b[0m \u001b[43m    \u001b[49m\u001b[43mheaders\u001b[49m\u001b[38;5;241;43m=\u001b[39;49m\u001b[43mheaders\u001b[49m\u001b[43m,\u001b[49m\n\u001b[1;32m    710\u001b[0m \u001b[43m    \u001b[49m\u001b[43mchunked\u001b[49m\u001b[38;5;241;43m=\u001b[39;49m\u001b[43mchunked\u001b[49m\u001b[43m,\u001b[49m\n\u001b[1;32m    711\u001b[0m \u001b[43m\u001b[49m\u001b[43m)\u001b[49m\n\u001b[1;32m    713\u001b[0m \u001b[38;5;66;03m# If we're going to release the connection in ``finally:``, then\u001b[39;00m\n\u001b[1;32m    714\u001b[0m \u001b[38;5;66;03m# the response doesn't need to know about the connection. Otherwise\u001b[39;00m\n\u001b[1;32m    715\u001b[0m \u001b[38;5;66;03m# it will also try to release it and we'll have a double-release\u001b[39;00m\n\u001b[1;32m    716\u001b[0m \u001b[38;5;66;03m# mess.\u001b[39;00m\n",
      "File \u001b[0;32m/usr/local/lib/python3.8/dist-packages/urllib3/connectionpool.py:398\u001b[0m, in \u001b[0;36mHTTPConnectionPool._make_request\u001b[0;34m(self, conn, method, url, timeout, chunked, **httplib_request_kw)\u001b[0m\n\u001b[1;32m    397\u001b[0m     \u001b[38;5;28;01melse\u001b[39;00m:\n\u001b[0;32m--> 398\u001b[0m         \u001b[43mconn\u001b[49m\u001b[38;5;241;43m.\u001b[39;49m\u001b[43mrequest\u001b[49m\u001b[43m(\u001b[49m\u001b[43mmethod\u001b[49m\u001b[43m,\u001b[49m\u001b[43m \u001b[49m\u001b[43murl\u001b[49m\u001b[43m,\u001b[49m\u001b[43m \u001b[49m\u001b[38;5;241;43m*\u001b[39;49m\u001b[38;5;241;43m*\u001b[39;49m\u001b[43mhttplib_request_kw\u001b[49m\u001b[43m)\u001b[49m\n\u001b[1;32m    400\u001b[0m \u001b[38;5;66;03m# We are swallowing BrokenPipeError (errno.EPIPE) since the server is\u001b[39;00m\n\u001b[1;32m    401\u001b[0m \u001b[38;5;66;03m# legitimately able to close the connection after sending a valid response.\u001b[39;00m\n\u001b[1;32m    402\u001b[0m \u001b[38;5;66;03m# With this behaviour, the received response is still readable.\u001b[39;00m\n",
      "File \u001b[0;32m/usr/local/lib/python3.8/dist-packages/urllib3/connection.py:239\u001b[0m, in \u001b[0;36mHTTPConnection.request\u001b[0;34m(self, method, url, body, headers)\u001b[0m\n\u001b[1;32m    238\u001b[0m     headers[\u001b[38;5;124m\"\u001b[39m\u001b[38;5;124mUser-Agent\u001b[39m\u001b[38;5;124m\"\u001b[39m] \u001b[38;5;241m=\u001b[39m _get_default_user_agent()\n\u001b[0;32m--> 239\u001b[0m \u001b[38;5;28;43msuper\u001b[39;49m\u001b[43m(\u001b[49m\u001b[43mHTTPConnection\u001b[49m\u001b[43m,\u001b[49m\u001b[43m \u001b[49m\u001b[38;5;28;43mself\u001b[39;49m\u001b[43m)\u001b[49m\u001b[38;5;241;43m.\u001b[39;49m\u001b[43mrequest\u001b[49m\u001b[43m(\u001b[49m\u001b[43mmethod\u001b[49m\u001b[43m,\u001b[49m\u001b[43m \u001b[49m\u001b[43murl\u001b[49m\u001b[43m,\u001b[49m\u001b[43m \u001b[49m\u001b[43mbody\u001b[49m\u001b[38;5;241;43m=\u001b[39;49m\u001b[43mbody\u001b[49m\u001b[43m,\u001b[49m\u001b[43m \u001b[49m\u001b[43mheaders\u001b[49m\u001b[38;5;241;43m=\u001b[39;49m\u001b[43mheaders\u001b[49m\u001b[43m)\u001b[49m\n",
      "File \u001b[0;32m/usr/lib/python3.8/http/client.py:1234\u001b[0m, in \u001b[0;36mHTTPConnection.request\u001b[0;34m(self, method, url, body, headers, encode_chunked)\u001b[0m\n\u001b[1;32m   1233\u001b[0m \u001b[38;5;124;03m\"\"\"Send a complete request to the server.\"\"\"\u001b[39;00m\n\u001b[0;32m-> 1234\u001b[0m \u001b[38;5;28;43mself\u001b[39;49m\u001b[38;5;241;43m.\u001b[39;49m\u001b[43m_send_request\u001b[49m\u001b[43m(\u001b[49m\u001b[43mmethod\u001b[49m\u001b[43m,\u001b[49m\u001b[43m \u001b[49m\u001b[43murl\u001b[49m\u001b[43m,\u001b[49m\u001b[43m \u001b[49m\u001b[43mbody\u001b[49m\u001b[43m,\u001b[49m\u001b[43m \u001b[49m\u001b[43mheaders\u001b[49m\u001b[43m,\u001b[49m\u001b[43m \u001b[49m\u001b[43mencode_chunked\u001b[49m\u001b[43m)\u001b[49m\n",
      "File \u001b[0;32m/usr/lib/python3.8/http/client.py:1280\u001b[0m, in \u001b[0;36mHTTPConnection._send_request\u001b[0;34m(self, method, url, body, headers, encode_chunked)\u001b[0m\n\u001b[1;32m   1279\u001b[0m     body \u001b[38;5;241m=\u001b[39m _encode(body, \u001b[38;5;124m'\u001b[39m\u001b[38;5;124mbody\u001b[39m\u001b[38;5;124m'\u001b[39m)\n\u001b[0;32m-> 1280\u001b[0m \u001b[38;5;28;43mself\u001b[39;49m\u001b[38;5;241;43m.\u001b[39;49m\u001b[43mendheaders\u001b[49m\u001b[43m(\u001b[49m\u001b[43mbody\u001b[49m\u001b[43m,\u001b[49m\u001b[43m \u001b[49m\u001b[43mencode_chunked\u001b[49m\u001b[38;5;241;43m=\u001b[39;49m\u001b[43mencode_chunked\u001b[49m\u001b[43m)\u001b[49m\n",
      "File \u001b[0;32m/usr/lib/python3.8/http/client.py:1229\u001b[0m, in \u001b[0;36mHTTPConnection.endheaders\u001b[0;34m(self, message_body, encode_chunked)\u001b[0m\n\u001b[1;32m   1228\u001b[0m     \u001b[38;5;28;01mraise\u001b[39;00m CannotSendHeader()\n\u001b[0;32m-> 1229\u001b[0m \u001b[38;5;28;43mself\u001b[39;49m\u001b[38;5;241;43m.\u001b[39;49m\u001b[43m_send_output\u001b[49m\u001b[43m(\u001b[49m\u001b[43mmessage_body\u001b[49m\u001b[43m,\u001b[49m\u001b[43m \u001b[49m\u001b[43mencode_chunked\u001b[49m\u001b[38;5;241;43m=\u001b[39;49m\u001b[43mencode_chunked\u001b[49m\u001b[43m)\u001b[49m\n",
      "File \u001b[0;32m/usr/lib/python3.8/http/client.py:1008\u001b[0m, in \u001b[0;36mHTTPConnection._send_output\u001b[0;34m(self, message_body, encode_chunked)\u001b[0m\n\u001b[1;32m   1007\u001b[0m \u001b[38;5;28;01mdel\u001b[39;00m \u001b[38;5;28mself\u001b[39m\u001b[38;5;241m.\u001b[39m_buffer[:]\n\u001b[0;32m-> 1008\u001b[0m \u001b[38;5;28;43mself\u001b[39;49m\u001b[38;5;241;43m.\u001b[39;49m\u001b[43msend\u001b[49m\u001b[43m(\u001b[49m\u001b[43mmsg\u001b[49m\u001b[43m)\u001b[49m\n\u001b[1;32m   1010\u001b[0m \u001b[38;5;28;01mif\u001b[39;00m message_body \u001b[38;5;129;01mis\u001b[39;00m \u001b[38;5;129;01mnot\u001b[39;00m \u001b[38;5;28;01mNone\u001b[39;00m:\n\u001b[1;32m   1011\u001b[0m \n\u001b[1;32m   1012\u001b[0m     \u001b[38;5;66;03m# create a consistent interface to message_body\u001b[39;00m\n",
      "File \u001b[0;32m/usr/lib/python3.8/http/client.py:948\u001b[0m, in \u001b[0;36mHTTPConnection.send\u001b[0;34m(self, data)\u001b[0m\n\u001b[1;32m    947\u001b[0m \u001b[38;5;28;01mif\u001b[39;00m \u001b[38;5;28mself\u001b[39m\u001b[38;5;241m.\u001b[39mauto_open:\n\u001b[0;32m--> 948\u001b[0m     \u001b[38;5;28;43mself\u001b[39;49m\u001b[38;5;241;43m.\u001b[39;49m\u001b[43mconnect\u001b[49m\u001b[43m(\u001b[49m\u001b[43m)\u001b[49m\n\u001b[1;32m    949\u001b[0m \u001b[38;5;28;01melse\u001b[39;00m:\n",
      "File \u001b[0;32m/usr/local/lib/python3.8/dist-packages/urllib3/connection.py:205\u001b[0m, in \u001b[0;36mHTTPConnection.connect\u001b[0;34m(self)\u001b[0m\n\u001b[1;32m    204\u001b[0m \u001b[38;5;28;01mdef\u001b[39;00m \u001b[38;5;21mconnect\u001b[39m(\u001b[38;5;28mself\u001b[39m):\n\u001b[0;32m--> 205\u001b[0m     conn \u001b[38;5;241m=\u001b[39m \u001b[38;5;28;43mself\u001b[39;49m\u001b[38;5;241;43m.\u001b[39;49m\u001b[43m_new_conn\u001b[49m\u001b[43m(\u001b[49m\u001b[43m)\u001b[49m\n\u001b[1;32m    206\u001b[0m     \u001b[38;5;28mself\u001b[39m\u001b[38;5;241m.\u001b[39m_prepare_conn(conn)\n",
      "File \u001b[0;32m/usr/local/lib/python3.8/dist-packages/urllib3/connection.py:186\u001b[0m, in \u001b[0;36mHTTPConnection._new_conn\u001b[0;34m(self)\u001b[0m\n\u001b[1;32m    185\u001b[0m \u001b[38;5;28;01mexcept\u001b[39;00m SocketError \u001b[38;5;28;01mas\u001b[39;00m e:\n\u001b[0;32m--> 186\u001b[0m     \u001b[38;5;28;01mraise\u001b[39;00m NewConnectionError(\n\u001b[1;32m    187\u001b[0m         \u001b[38;5;28mself\u001b[39m, \u001b[38;5;124m\"\u001b[39m\u001b[38;5;124mFailed to establish a new connection: \u001b[39m\u001b[38;5;132;01m%s\u001b[39;00m\u001b[38;5;124m\"\u001b[39m \u001b[38;5;241m%\u001b[39m e\n\u001b[1;32m    188\u001b[0m     )\n\u001b[1;32m    190\u001b[0m \u001b[38;5;28;01mreturn\u001b[39;00m conn\n",
      "\u001b[0;31mNewConnectionError\u001b[0m: <urllib3.connection.HTTPConnection object at 0x7fec6cd6dd30>: Failed to establish a new connection: [Errno 111] Connection refused",
      "\nDuring handling of the above exception, another exception occurred:\n",
      "\u001b[0;31mMaxRetryError\u001b[0m                             Traceback (most recent call last)",
      "File \u001b[0;32m~/.local/lib/python3.8/site-packages/requests/adapters.py:440\u001b[0m, in \u001b[0;36mHTTPAdapter.send\u001b[0;34m(self, request, stream, timeout, verify, cert, proxies)\u001b[0m\n\u001b[1;32m    439\u001b[0m \u001b[38;5;28;01mif\u001b[39;00m \u001b[38;5;129;01mnot\u001b[39;00m chunked:\n\u001b[0;32m--> 440\u001b[0m     resp \u001b[38;5;241m=\u001b[39m \u001b[43mconn\u001b[49m\u001b[38;5;241;43m.\u001b[39;49m\u001b[43murlopen\u001b[49m\u001b[43m(\u001b[49m\n\u001b[1;32m    441\u001b[0m \u001b[43m        \u001b[49m\u001b[43mmethod\u001b[49m\u001b[38;5;241;43m=\u001b[39;49m\u001b[43mrequest\u001b[49m\u001b[38;5;241;43m.\u001b[39;49m\u001b[43mmethod\u001b[49m\u001b[43m,\u001b[49m\n\u001b[1;32m    442\u001b[0m \u001b[43m        \u001b[49m\u001b[43murl\u001b[49m\u001b[38;5;241;43m=\u001b[39;49m\u001b[43murl\u001b[49m\u001b[43m,\u001b[49m\n\u001b[1;32m    443\u001b[0m \u001b[43m        \u001b[49m\u001b[43mbody\u001b[49m\u001b[38;5;241;43m=\u001b[39;49m\u001b[43mrequest\u001b[49m\u001b[38;5;241;43m.\u001b[39;49m\u001b[43mbody\u001b[49m\u001b[43m,\u001b[49m\n\u001b[1;32m    444\u001b[0m \u001b[43m        \u001b[49m\u001b[43mheaders\u001b[49m\u001b[38;5;241;43m=\u001b[39;49m\u001b[43mrequest\u001b[49m\u001b[38;5;241;43m.\u001b[39;49m\u001b[43mheaders\u001b[49m\u001b[43m,\u001b[49m\n\u001b[1;32m    445\u001b[0m \u001b[43m        \u001b[49m\u001b[43mredirect\u001b[49m\u001b[38;5;241;43m=\u001b[39;49m\u001b[38;5;28;43;01mFalse\u001b[39;49;00m\u001b[43m,\u001b[49m\n\u001b[1;32m    446\u001b[0m \u001b[43m        \u001b[49m\u001b[43massert_same_host\u001b[49m\u001b[38;5;241;43m=\u001b[39;49m\u001b[38;5;28;43;01mFalse\u001b[39;49;00m\u001b[43m,\u001b[49m\n\u001b[1;32m    447\u001b[0m \u001b[43m        \u001b[49m\u001b[43mpreload_content\u001b[49m\u001b[38;5;241;43m=\u001b[39;49m\u001b[38;5;28;43;01mFalse\u001b[39;49;00m\u001b[43m,\u001b[49m\n\u001b[1;32m    448\u001b[0m \u001b[43m        \u001b[49m\u001b[43mdecode_content\u001b[49m\u001b[38;5;241;43m=\u001b[39;49m\u001b[38;5;28;43;01mFalse\u001b[39;49;00m\u001b[43m,\u001b[49m\n\u001b[1;32m    449\u001b[0m \u001b[43m        \u001b[49m\u001b[43mretries\u001b[49m\u001b[38;5;241;43m=\u001b[39;49m\u001b[38;5;28;43mself\u001b[39;49m\u001b[38;5;241;43m.\u001b[39;49m\u001b[43mmax_retries\u001b[49m\u001b[43m,\u001b[49m\n\u001b[1;32m    450\u001b[0m \u001b[43m        \u001b[49m\u001b[43mtimeout\u001b[49m\u001b[38;5;241;43m=\u001b[39;49m\u001b[43mtimeout\u001b[49m\n\u001b[1;32m    451\u001b[0m \u001b[43m    \u001b[49m\u001b[43m)\u001b[49m\n\u001b[1;32m    453\u001b[0m \u001b[38;5;66;03m# Send the request.\u001b[39;00m\n\u001b[1;32m    454\u001b[0m \u001b[38;5;28;01melse\u001b[39;00m:\n",
      "File \u001b[0;32m/usr/local/lib/python3.8/dist-packages/urllib3/connectionpool.py:785\u001b[0m, in \u001b[0;36mHTTPConnectionPool.urlopen\u001b[0;34m(self, method, url, body, headers, retries, redirect, assert_same_host, timeout, pool_timeout, release_conn, chunked, body_pos, **response_kw)\u001b[0m\n\u001b[1;32m    783\u001b[0m     e \u001b[38;5;241m=\u001b[39m ProtocolError(\u001b[38;5;124m\"\u001b[39m\u001b[38;5;124mConnection aborted.\u001b[39m\u001b[38;5;124m\"\u001b[39m, e)\n\u001b[0;32m--> 785\u001b[0m retries \u001b[38;5;241m=\u001b[39m \u001b[43mretries\u001b[49m\u001b[38;5;241;43m.\u001b[39;49m\u001b[43mincrement\u001b[49m\u001b[43m(\u001b[49m\n\u001b[1;32m    786\u001b[0m \u001b[43m    \u001b[49m\u001b[43mmethod\u001b[49m\u001b[43m,\u001b[49m\u001b[43m \u001b[49m\u001b[43murl\u001b[49m\u001b[43m,\u001b[49m\u001b[43m \u001b[49m\u001b[43merror\u001b[49m\u001b[38;5;241;43m=\u001b[39;49m\u001b[43me\u001b[49m\u001b[43m,\u001b[49m\u001b[43m \u001b[49m\u001b[43m_pool\u001b[49m\u001b[38;5;241;43m=\u001b[39;49m\u001b[38;5;28;43mself\u001b[39;49m\u001b[43m,\u001b[49m\u001b[43m \u001b[49m\u001b[43m_stacktrace\u001b[49m\u001b[38;5;241;43m=\u001b[39;49m\u001b[43msys\u001b[49m\u001b[38;5;241;43m.\u001b[39;49m\u001b[43mexc_info\u001b[49m\u001b[43m(\u001b[49m\u001b[43m)\u001b[49m\u001b[43m[\u001b[49m\u001b[38;5;241;43m2\u001b[39;49m\u001b[43m]\u001b[49m\n\u001b[1;32m    787\u001b[0m \u001b[43m\u001b[49m\u001b[43m)\u001b[49m\n\u001b[1;32m    788\u001b[0m retries\u001b[38;5;241m.\u001b[39msleep()\n",
      "File \u001b[0;32m/usr/local/lib/python3.8/dist-packages/urllib3/util/retry.py:592\u001b[0m, in \u001b[0;36mRetry.increment\u001b[0;34m(self, method, url, response, error, _pool, _stacktrace)\u001b[0m\n\u001b[1;32m    591\u001b[0m \u001b[38;5;28;01mif\u001b[39;00m new_retry\u001b[38;5;241m.\u001b[39mis_exhausted():\n\u001b[0;32m--> 592\u001b[0m     \u001b[38;5;28;01mraise\u001b[39;00m MaxRetryError(_pool, url, error \u001b[38;5;129;01mor\u001b[39;00m ResponseError(cause))\n\u001b[1;32m    594\u001b[0m log\u001b[38;5;241m.\u001b[39mdebug(\u001b[38;5;124m\"\u001b[39m\u001b[38;5;124mIncremented Retry for (url=\u001b[39m\u001b[38;5;124m'\u001b[39m\u001b[38;5;132;01m%s\u001b[39;00m\u001b[38;5;124m'\u001b[39m\u001b[38;5;124m): \u001b[39m\u001b[38;5;132;01m%r\u001b[39;00m\u001b[38;5;124m\"\u001b[39m, url, new_retry)\n",
      "\u001b[0;31mMaxRetryError\u001b[0m: HTTPConnectionPool(host='35.225.238.33', port=8080): Max retries exceeded with url: /register_key (Caused by NewConnectionError('<urllib3.connection.HTTPConnection object at 0x7fec6cd6dd30>: Failed to establish a new connection: [Errno 111] Connection refused'))",
      "\nDuring handling of the above exception, another exception occurred:\n",
      "\u001b[0;31mConnectionError\u001b[0m                           Traceback (most recent call last)",
      "Input \u001b[0;32mIn [72]\u001b[0m, in \u001b[0;36m<cell line: 16>\u001b[0;34m()\u001b[0m\n\u001b[1;32m     13\u001b[0m url \u001b[38;5;241m=\u001b[39m \u001b[38;5;124m'\u001b[39m\u001b[38;5;124mhttp://35.225.238.33:8080/register_key\u001b[39m\u001b[38;5;124m'\u001b[39m\n\u001b[1;32m     14\u001b[0m files \u001b[38;5;241m=\u001b[39m [(\u001b[38;5;124m'\u001b[39m\u001b[38;5;124mcontext\u001b[39m\u001b[38;5;124m'\u001b[39m,ctxt),(\u001b[38;5;124m'\u001b[39m\u001b[38;5;124mpublic_key\u001b[39m\u001b[38;5;124m'\u001b[39m,pub),(\u001b[38;5;124m'\u001b[39m\u001b[38;5;124mrelin_key\u001b[39m\u001b[38;5;124m'\u001b[39m,relin)]\n\u001b[0;32m---> 16\u001b[0m resp \u001b[38;5;241m=\u001b[39m \u001b[43mrequests\u001b[49m\u001b[38;5;241;43m.\u001b[39;49m\u001b[43mpost\u001b[49m\u001b[43m(\u001b[49m\u001b[43murl\u001b[49m\u001b[38;5;241;43m=\u001b[39;49m\u001b[43murl\u001b[49m\u001b[43m,\u001b[49m\u001b[43mfiles\u001b[49m\u001b[38;5;241;43m=\u001b[39;49m\u001b[43mfiles\u001b[49m\u001b[43m)\u001b[49m\n\u001b[1;32m     17\u001b[0m \u001b[38;5;66;03m#print(resp.ok)\u001b[39;00m\n\u001b[1;32m     19\u001b[0m session_id \u001b[38;5;241m=\u001b[39m resp\u001b[38;5;241m.\u001b[39mjson()[\u001b[38;5;124m'\u001b[39m\u001b[38;5;124munique_id\u001b[39m\u001b[38;5;124m'\u001b[39m]\n",
      "File \u001b[0;32m~/.local/lib/python3.8/site-packages/requests/api.py:117\u001b[0m, in \u001b[0;36mpost\u001b[0;34m(url, data, json, **kwargs)\u001b[0m\n\u001b[1;32m    105\u001b[0m \u001b[38;5;28;01mdef\u001b[39;00m \u001b[38;5;21mpost\u001b[39m(url, data\u001b[38;5;241m=\u001b[39m\u001b[38;5;28;01mNone\u001b[39;00m, json\u001b[38;5;241m=\u001b[39m\u001b[38;5;28;01mNone\u001b[39;00m, \u001b[38;5;241m*\u001b[39m\u001b[38;5;241m*\u001b[39mkwargs):\n\u001b[1;32m    106\u001b[0m     \u001b[38;5;124mr\u001b[39m\u001b[38;5;124;03m\"\"\"Sends a POST request.\u001b[39;00m\n\u001b[1;32m    107\u001b[0m \n\u001b[1;32m    108\u001b[0m \u001b[38;5;124;03m    :param url: URL for the new :class:`Request` object.\u001b[39;00m\n\u001b[0;32m   (...)\u001b[0m\n\u001b[1;32m    114\u001b[0m \u001b[38;5;124;03m    :rtype: requests.Response\u001b[39;00m\n\u001b[1;32m    115\u001b[0m \u001b[38;5;124;03m    \"\"\"\u001b[39;00m\n\u001b[0;32m--> 117\u001b[0m     \u001b[38;5;28;01mreturn\u001b[39;00m \u001b[43mrequest\u001b[49m\u001b[43m(\u001b[49m\u001b[38;5;124;43m'\u001b[39;49m\u001b[38;5;124;43mpost\u001b[39;49m\u001b[38;5;124;43m'\u001b[39;49m\u001b[43m,\u001b[49m\u001b[43m \u001b[49m\u001b[43murl\u001b[49m\u001b[43m,\u001b[49m\u001b[43m \u001b[49m\u001b[43mdata\u001b[49m\u001b[38;5;241;43m=\u001b[39;49m\u001b[43mdata\u001b[49m\u001b[43m,\u001b[49m\u001b[43m \u001b[49m\u001b[43mjson\u001b[49m\u001b[38;5;241;43m=\u001b[39;49m\u001b[43mjson\u001b[49m\u001b[43m,\u001b[49m\u001b[43m \u001b[49m\u001b[38;5;241;43m*\u001b[39;49m\u001b[38;5;241;43m*\u001b[39;49m\u001b[43mkwargs\u001b[49m\u001b[43m)\u001b[49m\n",
      "File \u001b[0;32m~/.local/lib/python3.8/site-packages/requests/api.py:61\u001b[0m, in \u001b[0;36mrequest\u001b[0;34m(method, url, **kwargs)\u001b[0m\n\u001b[1;32m     57\u001b[0m \u001b[38;5;66;03m# By using the 'with' statement we are sure the session is closed, thus we\u001b[39;00m\n\u001b[1;32m     58\u001b[0m \u001b[38;5;66;03m# avoid leaving sockets open which can trigger a ResourceWarning in some\u001b[39;00m\n\u001b[1;32m     59\u001b[0m \u001b[38;5;66;03m# cases, and look like a memory leak in others.\u001b[39;00m\n\u001b[1;32m     60\u001b[0m \u001b[38;5;28;01mwith\u001b[39;00m sessions\u001b[38;5;241m.\u001b[39mSession() \u001b[38;5;28;01mas\u001b[39;00m session:\n\u001b[0;32m---> 61\u001b[0m     \u001b[38;5;28;01mreturn\u001b[39;00m \u001b[43msession\u001b[49m\u001b[38;5;241;43m.\u001b[39;49m\u001b[43mrequest\u001b[49m\u001b[43m(\u001b[49m\u001b[43mmethod\u001b[49m\u001b[38;5;241;43m=\u001b[39;49m\u001b[43mmethod\u001b[49m\u001b[43m,\u001b[49m\u001b[43m \u001b[49m\u001b[43murl\u001b[49m\u001b[38;5;241;43m=\u001b[39;49m\u001b[43murl\u001b[49m\u001b[43m,\u001b[49m\u001b[43m \u001b[49m\u001b[38;5;241;43m*\u001b[39;49m\u001b[38;5;241;43m*\u001b[39;49m\u001b[43mkwargs\u001b[49m\u001b[43m)\u001b[49m\n",
      "File \u001b[0;32m~/.local/lib/python3.8/site-packages/requests/sessions.py:529\u001b[0m, in \u001b[0;36mSession.request\u001b[0;34m(self, method, url, params, data, headers, cookies, files, auth, timeout, allow_redirects, proxies, hooks, stream, verify, cert, json)\u001b[0m\n\u001b[1;32m    524\u001b[0m send_kwargs \u001b[38;5;241m=\u001b[39m {\n\u001b[1;32m    525\u001b[0m     \u001b[38;5;124m'\u001b[39m\u001b[38;5;124mtimeout\u001b[39m\u001b[38;5;124m'\u001b[39m: timeout,\n\u001b[1;32m    526\u001b[0m     \u001b[38;5;124m'\u001b[39m\u001b[38;5;124mallow_redirects\u001b[39m\u001b[38;5;124m'\u001b[39m: allow_redirects,\n\u001b[1;32m    527\u001b[0m }\n\u001b[1;32m    528\u001b[0m send_kwargs\u001b[38;5;241m.\u001b[39mupdate(settings)\n\u001b[0;32m--> 529\u001b[0m resp \u001b[38;5;241m=\u001b[39m \u001b[38;5;28;43mself\u001b[39;49m\u001b[38;5;241;43m.\u001b[39;49m\u001b[43msend\u001b[49m\u001b[43m(\u001b[49m\u001b[43mprep\u001b[49m\u001b[43m,\u001b[49m\u001b[43m \u001b[49m\u001b[38;5;241;43m*\u001b[39;49m\u001b[38;5;241;43m*\u001b[39;49m\u001b[43msend_kwargs\u001b[49m\u001b[43m)\u001b[49m\n\u001b[1;32m    531\u001b[0m \u001b[38;5;28;01mreturn\u001b[39;00m resp\n",
      "File \u001b[0;32m~/.local/lib/python3.8/site-packages/requests/sessions.py:645\u001b[0m, in \u001b[0;36mSession.send\u001b[0;34m(self, request, **kwargs)\u001b[0m\n\u001b[1;32m    642\u001b[0m start \u001b[38;5;241m=\u001b[39m preferred_clock()\n\u001b[1;32m    644\u001b[0m \u001b[38;5;66;03m# Send the request\u001b[39;00m\n\u001b[0;32m--> 645\u001b[0m r \u001b[38;5;241m=\u001b[39m \u001b[43madapter\u001b[49m\u001b[38;5;241;43m.\u001b[39;49m\u001b[43msend\u001b[49m\u001b[43m(\u001b[49m\u001b[43mrequest\u001b[49m\u001b[43m,\u001b[49m\u001b[43m \u001b[49m\u001b[38;5;241;43m*\u001b[39;49m\u001b[38;5;241;43m*\u001b[39;49m\u001b[43mkwargs\u001b[49m\u001b[43m)\u001b[49m\n\u001b[1;32m    647\u001b[0m \u001b[38;5;66;03m# Total elapsed time of the request (approximately)\u001b[39;00m\n\u001b[1;32m    648\u001b[0m elapsed \u001b[38;5;241m=\u001b[39m preferred_clock() \u001b[38;5;241m-\u001b[39m start\n",
      "File \u001b[0;32m~/.local/lib/python3.8/site-packages/requests/adapters.py:519\u001b[0m, in \u001b[0;36mHTTPAdapter.send\u001b[0;34m(self, request, stream, timeout, verify, cert, proxies)\u001b[0m\n\u001b[1;32m    515\u001b[0m     \u001b[38;5;28;01mif\u001b[39;00m \u001b[38;5;28misinstance\u001b[39m(e\u001b[38;5;241m.\u001b[39mreason, _SSLError):\n\u001b[1;32m    516\u001b[0m         \u001b[38;5;66;03m# This branch is for urllib3 v1.22 and later.\u001b[39;00m\n\u001b[1;32m    517\u001b[0m         \u001b[38;5;28;01mraise\u001b[39;00m SSLError(e, request\u001b[38;5;241m=\u001b[39mrequest)\n\u001b[0;32m--> 519\u001b[0m     \u001b[38;5;28;01mraise\u001b[39;00m \u001b[38;5;167;01mConnectionError\u001b[39;00m(e, request\u001b[38;5;241m=\u001b[39mrequest)\n\u001b[1;32m    521\u001b[0m \u001b[38;5;28;01mexcept\u001b[39;00m ClosedPoolError \u001b[38;5;28;01mas\u001b[39;00m e:\n\u001b[1;32m    522\u001b[0m     \u001b[38;5;28;01mraise\u001b[39;00m \u001b[38;5;167;01mConnectionError\u001b[39;00m(e, request\u001b[38;5;241m=\u001b[39mrequest)\n",
      "\u001b[0;31mConnectionError\u001b[0m: HTTPConnectionPool(host='35.225.238.33', port=8080): Max retries exceeded with url: /register_key (Caused by NewConnectionError('<urllib3.connection.HTTPConnection object at 0x7fec6cd6dd30>: Failed to establish a new connection: [Errno 111] Connection refused'))"
     ]
    }
   ],
   "source": [
    "t1 = time.time()\n",
    "\n",
    "for a, b, c, d in iris.data:\n",
    "    res = 0.41269119 * a - 0.84800177 * b + 2.21345685 * c + 0.91860495 * d - 6.36236603\n",
    "\n",
    "d1 = time.time() - t1\n",
    "print(\"Time elapsed for \" + str(len(iris.data)) + \" plaintext instances: \" + \"{:.6f}\".format(d1) + \" seconds\")\n",
    "\n",
    "ctxt = pyfhel.to_bytes_context()\n",
    "pub = pyfhel.to_bytes_publicKey()\n",
    "relin = pyfhel.to_bytes_relinKey()\n",
    "\n",
    "url = 'http://35.225.238.33:8080/register_key'\n",
    "files = [('context',ctxt),('public_key',pub),('relin_key',relin)]\n",
    "\n",
    "resp = requests.post(url=url,files=files)\n",
    "#print(resp.ok)\n",
    "\n",
    "session_id = resp.json()['unique_id']\n",
    "\n",
    "t2 = time.time()\n",
    "\n",
    "for a, b, c, d in iris.data:\n",
    "    sepal_length_ctxt = pyfhel.encryptFrac(a)\n",
    "    sepal_width_ctxt = pyfhel.encryptFrac(b)\n",
    "    petal_length_ctxt = pyfhel.encryptFrac(c)\n",
    "    petal_width_ctxt = pyfhel.encryptFrac(d)\n",
    "    \n",
    "    sepal_length_bytes = sepal_length_ctxt.to_bytes()\n",
    "    sepal_width_bytes = sepal_width_ctxt.to_bytes()\n",
    "    petal_length_bytes = petal_length_ctxt.to_bytes()\n",
    "    petal_width_bytes = petal_width_ctxt.to_bytes()\n",
    "    \n",
    "    url = f'http://35.225.238.33:8080/predict_encrypted/iris/{session_id}'\n",
    "    files = [\n",
    "        ('sepal_length',sepal_length_bytes),('sepal_width',sepal_width_bytes),\n",
    "        ('petal_length',petal_length_bytes),('petal_width',petal_width_bytes)\n",
    "    ]\n",
    "\n",
    "    resp_prediction = requests.post(url=url,files=files)\n",
    "    #print(resp_prediction.ok)\n",
    "    \n",
    "    res_bytes = resp_prediction.content\n",
    "    ans_ctext = PyCtxt(serialized=res_bytes,encoding = ENCODING_t.FRACTIONAL)\n",
    "    pyfhel.decryptFrac(ans_ctext)\n",
    "    \n",
    "d2 = time.time() - t2\n",
    "print(\"Time elapsed for \" + str(len(iris.data)) + \" encrypted instances: \" + \"{:.6f}\".format(d2) + \" seconds\")\n",
    "print(\"Time difference: \" + \"{:.6f}\".format(d2 - d1) + \" seconds\")"
   ]
  },
  {
   "cell_type": "code",
   "execution_count": 94,
   "id": "29d2cf25",
   "metadata": {},
   "outputs": [
    {
     "data": {
      "text/plain": [
       "<Response [200]>"
      ]
     },
     "execution_count": 94,
     "metadata": {},
     "output_type": "execute_result"
    }
   ],
   "source": [
    "resp_prediction"
   ]
  },
  {
   "cell_type": "code",
   "execution_count": 62,
   "id": "ce2a14ef",
   "metadata": {},
   "outputs": [
    {
     "name": "stdout",
     "output_type": "stream",
     "text": [
      "Time elapsed for 30 encrypted instances: 1.326004 seconds\n",
      "Time elapsed for 60 encrypted instances: 2.630698 seconds\n",
      "Time elapsed for 90 encrypted instances: 3.951652 seconds\n",
      "Time elapsed for 120 encrypted instances: 5.216906 seconds\n",
      "Time elapsed for 150 encrypted instances: 6.536748 seconds\n"
     ]
    }
   ],
   "source": [
    "cnt = [len(iris.data) // 5 * i for i in range(1, 6)]\n",
    "\n",
    "for x in cnt:\n",
    "    t3 = time.time()\n",
    "    for a, b, c, d in iris.data[:x]:\n",
    "        sepal_length_ctxt = pyfhel.encryptFrac(a)\n",
    "        sepal_width_ctxt = pyfhel.encryptFrac(b)\n",
    "        petal_length_ctxt = pyfhel.encryptFrac(c)\n",
    "        petal_width_ctxt = pyfhel.encryptFrac(d)\n",
    "\n",
    "        sepal_length_bytes = sepal_length_ctxt.to_bytes()\n",
    "        sepal_width_bytes = sepal_width_ctxt.to_bytes()\n",
    "        petal_length_bytes = petal_length_ctxt.to_bytes()\n",
    "        petal_width_bytes = petal_width_ctxt.to_bytes()\n",
    "\n",
    "        url = f'http://35.225.238.33:8080/predict_encrypted/iris/{session_id}'\n",
    "        files = [\n",
    "            ('sepal_length',sepal_length_bytes),('sepal_width',sepal_width_bytes),\n",
    "            ('petal_length',petal_length_bytes),('petal_width',petal_width_bytes)\n",
    "        ]\n",
    "\n",
    "        resp_prediction = requests.post(url=url,files=files)\n",
    "        #print(resp_prediction.ok)\n",
    "\n",
    "        res_bytes = resp_prediction.content\n",
    "        ans_ctext = PyCtxt(serialized=res_bytes,encoding = ENCODING_t.FRACTIONAL)\n",
    "        pyfhel.decryptFrac(ans_ctext)\n",
    "    \n",
    "    d3 = time.time() - t3\n",
    "    print(\"Time elapsed for \" + str(x) + \" encrypted instances: \" + \"{:.6f}\".format(d3) + \" seconds\")"
   ]
  },
  {
   "cell_type": "code",
   "execution_count": 95,
   "id": "445eaec8",
   "metadata": {},
   "outputs": [],
   "source": [
    "weights = [0.41269119,-0.84800177,2.21345685,0.91860495]\n",
    "bias = - 6.36236603\n",
    "\n",
    "p_weights = [pyfhel.encode(weight) for weight in weights]\n",
    "p_bias = pyfhel.encode(bias)"
   ]
  },
  {
   "cell_type": "code",
   "execution_count": 97,
   "id": "0ce34890",
   "metadata": {},
   "outputs": [
    {
     "name": "stdout",
     "output_type": "stream",
     "text": [
      "Time elapsed for 150 plaintext instances: 0.000702 seconds\n"
     ]
    },
    {
     "ename": "KeyboardInterrupt",
     "evalue": "",
     "output_type": "error",
     "traceback": [
      "\u001b[0;31m---------------------------------------------------------------------------\u001b[0m",
      "\u001b[0;31mKeyboardInterrupt\u001b[0m                         Traceback (most recent call last)",
      "Input \u001b[0;32mIn [97]\u001b[0m, in \u001b[0;36m<cell line: 17>\u001b[0;34m()\u001b[0m\n\u001b[1;32m     19\u001b[0m         encrypted_params \u001b[38;5;241m=\u001b[39m [sepal_length_ctxt,sepal_width_ctxt,petal_length_ctxt,petal_width_ctxt]\n\u001b[1;32m     20\u001b[0m         \u001b[38;5;28;01mfor\u001b[39;00m p_txt_w,input_c_txt \u001b[38;5;129;01min\u001b[39;00m \u001b[38;5;28mzip\u001b[39m(p_weights,encrypted_params):\n\u001b[0;32m---> 21\u001b[0m             ans \u001b[38;5;241m+\u001b[39m\u001b[38;5;241m=\u001b[39m \u001b[43mpyfhel\u001b[49m\u001b[38;5;241;43m.\u001b[39;49m\u001b[43mmultiply_plain\u001b[49m\u001b[43m(\u001b[49m\u001b[43minput_c_txt\u001b[49m\u001b[43m,\u001b[49m\u001b[43mp_txt_w\u001b[49m\u001b[43m,\u001b[49m\u001b[43min_new_ctxt\u001b[49m\u001b[38;5;241;43m=\u001b[39;49m\u001b[38;5;28;43;01mTrue\u001b[39;49;00m\u001b[43m)\u001b[49m\n\u001b[1;32m     22\u001b[0m         ans_val \u001b[38;5;241m=\u001b[39m pyfhel\u001b[38;5;241m.\u001b[39mdecryptFrac(ans)\n\u001b[1;32m     24\u001b[0m d2 \u001b[38;5;241m=\u001b[39m time\u001b[38;5;241m.\u001b[39mtime() \u001b[38;5;241m-\u001b[39m t2\n",
      "\u001b[0;31mKeyboardInterrupt\u001b[0m: "
     ]
    }
   ],
   "source": [
    "t1 = time.time()\n",
    "\n",
    "for a, b, c, d in iris.data:\n",
    "    res = 0.41269119 * a - 0.84800177 * b + 2.21345685 * c + 0.91860495 * d - 6.36236603\n",
    "\n",
    "d1 = time.time() - t1\n",
    "print(\"Time elapsed for \" + str(len(iris.data)) + \" plaintext instances: \" + \"{:.6f}\".format(d1) + \" seconds\")\n",
    "\n",
    "a, b, c, d = iris.data[0]\n",
    "sepal_length_ctxt = pyfhel.encryptFrac(a)\n",
    "sepal_width_ctxt = pyfhel.encryptFrac(b)\n",
    "petal_length_ctxt = pyfhel.encryptFrac(c)\n",
    "petal_width_ctxt = pyfhel.encryptFrac(d)\n",
    "\n",
    "t2 = time.time()\n",
    "\n",
    "for a, b, c, d in iris.data:\n",
    "        ans = pyfhel.encryptFrac(0.0)\n",
    "        encrypted_params = [sepal_length_ctxt,sepal_width_ctxt,petal_length_ctxt,petal_width_ctxt]\n",
    "        for p_txt_w,input_c_txt in zip(p_weights,encrypted_params):\n",
    "            ans += pyfhel.multiply_plain(input_c_txt,p_txt_w,in_new_ctxt=True)\n",
    "        ans_val = pyfhel.decryptFrac(ans)\n",
    "        \n",
    "d2 = time.time() - t2\n",
    "print(\"Time elapsed for \" + str(len(iris.data)) + \" ciphertext instances: \" + \"{:.2f}\".format(d2) + \" seconds\")\n",
    "print(\"Time difference: \" + \"{:.2f}\".format(d2 - d1) + \" seconds\")"
   ]
  },
  {
   "cell_type": "code",
   "execution_count": 91,
   "id": "682c9b9e",
   "metadata": {},
   "outputs": [
    {
     "ename": "ValueError",
     "evalue": "encrypted is not valid for encryption parameters",
     "output_type": "error",
     "traceback": [
      "\u001b[0;31m---------------------------------------------------------------------------\u001b[0m",
      "\u001b[0;31mValueError\u001b[0m                                Traceback (most recent call last)",
      "Input \u001b[0;32mIn [91]\u001b[0m, in \u001b[0;36m<cell line: 3>\u001b[0;34m()\u001b[0m\n\u001b[1;32m      2\u001b[0m encrypted_params \u001b[38;5;241m=\u001b[39m [sepal_length_ctxt,sepal_width_ctxt,petal_length_ctxt,petal_width_ctxt]\n\u001b[1;32m      3\u001b[0m \u001b[38;5;28;01mfor\u001b[39;00m p_txt_w,input_c_txt \u001b[38;5;129;01min\u001b[39;00m \u001b[38;5;28mzip\u001b[39m(p_weights,encrypted_params):\n\u001b[0;32m----> 4\u001b[0m     ans \u001b[38;5;241m+\u001b[39m\u001b[38;5;241m=\u001b[39m \u001b[43mpyfhel\u001b[49m\u001b[38;5;241;43m.\u001b[39;49m\u001b[43mmultiply_plain\u001b[49m\u001b[43m(\u001b[49m\u001b[43minput_c_txt\u001b[49m\u001b[43m,\u001b[49m\u001b[43mp_txt_w\u001b[49m\u001b[43m,\u001b[49m\u001b[43min_new_ctxt\u001b[49m\u001b[38;5;241;43m=\u001b[39;49m\u001b[38;5;28;43;01mTrue\u001b[39;49;00m\u001b[43m)\u001b[49m\n\u001b[1;32m      5\u001b[0m ans_val \u001b[38;5;241m=\u001b[39m pyfhel\u001b[38;5;241m.\u001b[39mdecryptFrac(ans)\n",
      "File \u001b[0;32mPyfhel/Pyfhel.pyx:1090\u001b[0m, in \u001b[0;36mPyfhel.Pyfhel.Pyfhel.multiply_plain\u001b[0;34m()\u001b[0m\n",
      "File \u001b[0;32mPyfhel/Pyfhel.pyx:1111\u001b[0m, in \u001b[0;36mPyfhel.Pyfhel.Pyfhel.multiply_plain\u001b[0;34m()\u001b[0m\n",
      "\u001b[0;31mValueError\u001b[0m: encrypted is not valid for encryption parameters"
     ]
    }
   ],
   "source": [
    "ans = pyfhel.encryptFrac(0.0)\n",
    "encrypted_params = [sepal_length_ctxt,sepal_width_ctxt,petal_length_ctxt,petal_width_ctxt]\n",
    "for p_txt_w,input_c_txt in zip(p_weights,encrypted_params):\n",
    "    ans += pyfhel.multiply_plain(input_c_txt,p_txt_w,in_new_ctxt=True)\n",
    "ans_val = pyfhel.decryptFrac(ans)"
   ]
  },
  {
   "cell_type": "code",
   "execution_count": 98,
   "id": "025eecbf",
   "metadata": {},
   "outputs": [
    {
     "name": "stdout",
     "output_type": "stream",
     "text": [
      "Time elapsed for 30 encrypted instances: 11.50 seconds\n",
      "Time elapsed for 60 encrypted instances: 22.94 seconds\n",
      "Time elapsed for 90 encrypted instances: 34.47 seconds\n",
      "Time elapsed for 120 encrypted instances: 45.95 seconds\n",
      "Time elapsed for 150 encrypted instances: 57.46 seconds\n"
     ]
    }
   ],
   "source": [
    "cnt = [len(iris.data) // 5 * i for i in range(1, 6)]\n",
    "\n",
    "a, b, c, d = iris.data[0]\n",
    "sepal_length_ctxt = pyfhel.encryptFrac(a)\n",
    "sepal_width_ctxt = pyfhel.encryptFrac(b)\n",
    "petal_length_ctxt = pyfhel.encryptFrac(c)\n",
    "petal_width_ctxt = pyfhel.encryptFrac(d)\n",
    "\n",
    "for x in cnt:\n",
    "    t3 = time.time()\n",
    "    for a, b, c, d in iris.data[:x]:\n",
    "        ans = pyfhel.encryptFrac(0.0)\n",
    "        encrypted_params = [sepal_length_ctxt,sepal_width_ctxt,petal_length_ctxt,petal_width_ctxt]\n",
    "        for p_txt_w,input_c_txt in zip(p_weights,encrypted_params):\n",
    "            ans += pyfhel.multiply_plain(input_c_txt,p_txt_w,in_new_ctxt=True)\n",
    "        ans_val = pyfhel.decryptFrac(ans)\n",
    "    \n",
    "    d3 = time.time() - t3\n",
    "    print(\"Time elapsed for \" + str(x) + \" encrypted instances: \" + \"{:.2f}\".format(d3) + \" seconds\")"
   ]
  },
  {
   "cell_type": "code",
   "execution_count": null,
   "id": "5d1ee975",
   "metadata": {},
   "outputs": [],
   "source": [
    "sepal_length_ctxt,sepal_width_ctxt,petal_length_ctxt,petal_width_ctxt = [pyfhel.encryptFrac(inp) for inp in test_input]"
   ]
  },
  {
   "cell_type": "code",
   "execution_count": null,
   "id": "4e1b481b",
   "metadata": {},
   "outputs": [],
   "source": [
    "sepal_length_bytes = sepal_length_ctxt.to_bytes()\n",
    "sepal_width_bytes = sepal_width_ctxt.to_bytes()\n",
    "petal_length_bytes = petal_length_ctxt.to_bytes()\n",
    "petal_width_bytes = petal_width_ctxt.to_bytes()"
   ]
  },
  {
   "cell_type": "code",
   "execution_count": null,
   "id": "634cc364",
   "metadata": {},
   "outputs": [],
   "source": [
    "ctxt = pyfhel.to_bytes_context()\n",
    "pub = pyfhel.to_bytes_publicKey()"
   ]
  },
  {
   "cell_type": "code",
   "execution_count": null,
   "id": "c5363064",
   "metadata": {},
   "outputs": [],
   "source": [
    "url = 'http://35.225.238.33:8080/register_key'\n",
    "files = [('context',ctxt),('public_key',pub)]\n",
    "\n",
    "resp = requests.post(url=url,files=files)\n",
    "print(resp.ok)"
   ]
  },
  {
   "cell_type": "code",
   "execution_count": null,
   "id": "719cdb00",
   "metadata": {},
   "outputs": [],
   "source": [
    "session_id = resp.json()['unique_id']"
   ]
  },
  {
   "cell_type": "code",
   "execution_count": null,
   "id": "9d3ddc29",
   "metadata": {},
   "outputs": [],
   "source": [
    "url = f'http://35.225.238.33:8080/predict_encrypted/iris/{session_id}'\n",
    "files = [\n",
    "    ('sepal_length',sepal_length_bytes),('sepal_width',sepal_width_bytes),\n",
    "    ('petal_length',petal_length_bytes),('petal_width',petal_width_bytes)\n",
    "]\n",
    "\n",
    "resp_prediction = requests.post(url=url,files=files)\n",
    "print(resp_prediction.ok)"
   ]
  },
  {
   "cell_type": "code",
   "execution_count": null,
   "id": "9f2efbdd",
   "metadata": {},
   "outputs": [],
   "source": [
    "res_bytes = resp_prediction.content"
   ]
  },
  {
   "cell_type": "code",
   "execution_count": null,
   "id": "eca5836c",
   "metadata": {},
   "outputs": [],
   "source": [
    "ans_ctext = PyCtxt(serialized=res_bytes,encoding = ENCODING_t.FRACTIONAL)"
   ]
  },
  {
   "cell_type": "code",
   "execution_count": null,
   "id": "5655b4bb",
   "metadata": {},
   "outputs": [],
   "source": [
    "pyfhel.decryptFrac(ans_ctext)"
   ]
  }
 ],
 "metadata": {
  "kernelspec": {
   "display_name": "Python 3 (ipykernel)",
   "language": "python",
   "name": "python3"
  },
  "language_info": {
   "codemirror_mode": {
    "name": "ipython",
    "version": 3
   },
   "file_extension": ".py",
   "mimetype": "text/x-python",
   "name": "python",
   "nbconvert_exporter": "python",
   "pygments_lexer": "ipython3",
   "version": "3.8.0"
  }
 },
 "nbformat": 4,
 "nbformat_minor": 5
}

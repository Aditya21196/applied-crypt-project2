{
 "cells": [
  {
   "cell_type": "code",
   "execution_count": null,
   "id": "a1f2ed56",
   "metadata": {},
   "outputs": [],
   "source": [
    "import numpy as np\n",
    "from Pyfhel.util import ENCODING_t\n",
    "from Pyfhel import PyCtxt, Pyfhel, PyPtxt\n",
    "import requests\n",
    "import time"
   ]
  },
  {
   "cell_type": "code",
   "execution_count": null,
   "id": "07a4402c",
   "metadata": {},
   "outputs": [],
   "source": [
    "ip_address = 'localhost'"
   ]
  },
  {
   "cell_type": "code",
   "execution_count": null,
   "id": "1a2e2295",
   "metadata": {},
   "outputs": [],
   "source": [
    "pyfhel = Pyfhel()\n",
    "pyfhel.contextGen(p=65537, m=8192, base=2, sec=128, intDigits=64, fracDigits = 32)\n",
    "pyfhel.keyGen()"
   ]
  },
  {
   "cell_type": "code",
   "execution_count": null,
   "id": "3a077a2a",
   "metadata": {},
   "outputs": [],
   "source": [
    "pyfhel.relinKeyGen(32,5)"
   ]
  },
  {
   "cell_type": "code",
   "execution_count": null,
   "id": "5d1ee975",
   "metadata": {},
   "outputs": [],
   "source": [
    "sepal_length_ctxt,sepal_width_ctxt,petal_length_ctxt,petal_width_ctxt = [pyfhel.encryptFrac(inp) for inp in test_input]\n",
    "\n",
    "sepal_length_bytes = sepal_length_ctxt.to_bytes()\n",
    "sepal_width_bytes = sepal_width_ctxt.to_bytes()\n",
    "petal_length_bytes = petal_length_ctxt.to_bytes()\n",
    "petal_width_bytes = petal_width_ctxt.to_bytes()\n"
   ]
  },
  {
   "cell_type": "code",
   "execution_count": null,
   "id": "634cc364",
   "metadata": {},
   "outputs": [],
   "source": [
    "ctxt = pyfhel.to_bytes_context()\n",
    "pub = pyfhel.to_bytes_publicKey()\n",
    "relin = pyfhel.to_bytes_relinKey()"
   ]
  },
  {
   "cell_type": "code",
   "execution_count": null,
   "id": "c5363064",
   "metadata": {},
   "outputs": [],
   "source": [
    "t = time.time()\n",
    "url = f'http://{ip_address}:8080/register_key'\n",
    "files = [('context',ctxt),('public_key',pub),('relin_key',relin)]\n",
    "\n",
    "resp = requests.post(url=url,files=files)\n",
    "print(resp.ok,'time taken',time.time()-t,'s')"
   ]
  },
  {
   "cell_type": "code",
   "execution_count": null,
   "id": "719cdb00",
   "metadata": {},
   "outputs": [],
   "source": [
    "session_id = resp.json()['unique_id']"
   ]
  },
  {
   "cell_type": "code",
   "execution_count": null,
   "id": "9d3ddc29",
   "metadata": {},
   "outputs": [],
   "source": [
    "url = f'http://{ip_address}:8080/predict_encrypted/iris/{session_id}'\n",
    "files = [\n",
    "    ('sepal_length',sepal_length_bytes),('sepal_width',sepal_width_bytes),\n",
    "    ('petal_length',petal_length_bytes),('petal_width',petal_width_bytes)\n",
    "]\n",
    "\n",
    "resp_prediction = requests.post(url=url,files=files)\n",
    "print(resp_prediction.ok)"
   ]
  },
  {
   "cell_type": "code",
   "execution_count": null,
   "id": "9f2efbdd",
   "metadata": {},
   "outputs": [],
   "source": [
    "res_bytes = resp_prediction.content"
   ]
  },
  {
   "cell_type": "code",
   "execution_count": null,
   "id": "eca5836c",
   "metadata": {},
   "outputs": [],
   "source": [
    "ans_ctext = PyCtxt(serialized=res_bytes,encoding = ENCODING_t.FRACTIONAL)"
   ]
  },
  {
   "cell_type": "code",
   "execution_count": null,
   "id": "921a90e2",
   "metadata": {},
   "outputs": [],
   "source": [
    "ans_ctext"
   ]
  },
  {
   "cell_type": "code",
   "execution_count": null,
   "id": "5655b4bb",
   "metadata": {},
   "outputs": [],
   "source": [
    "pyfhel.decryptFrac(ans_ctext)"
   ]
  },
  {
   "cell_type": "code",
   "execution_count": null,
   "id": "6018bbe1",
   "metadata": {},
   "outputs": [],
   "source": [
    "url = f'http://{ip_address}:8080/predict_encrypted_perceptron/iris/{session_id}'\n",
    "files = [\n",
    "    ('sepal_length',sepal_length_bytes),('sepal_width',sepal_width_bytes),\n",
    "    ('petal_length',petal_length_bytes),('petal_width',petal_width_bytes)\n",
    "]\n",
    "\n",
    "# This throws an error because linearize is not supported on server thread\n",
    "resp_prediction = requests.post(url=url,files=files)\n",
    "print(resp_prediction.ok)"
   ]
  },
  {
   "cell_type": "code",
   "execution_count": null,
   "id": "e873af97",
   "metadata": {},
   "outputs": [],
   "source": []
  }
 ],
 "metadata": {
  "kernelspec": {
   "display_name": "Python 3 (ipykernel)",
   "language": "python",
   "name": "python3"
  },
  "language_info": {
   "codemirror_mode": {
    "name": "ipython",
    "version": 3
   },
   "file_extension": ".py",
   "mimetype": "text/x-python",
   "name": "python",
   "nbconvert_exporter": "python",
   "pygments_lexer": "ipython3",
   "version": "3.8.0"
  }
 },
 "nbformat": 4,
 "nbformat_minor": 5
}

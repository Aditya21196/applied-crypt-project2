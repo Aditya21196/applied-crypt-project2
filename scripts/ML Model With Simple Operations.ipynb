{
 "cells": [
  {
   "cell_type": "code",
   "execution_count": 76,
   "id": "ac938338",
   "metadata": {},
   "outputs": [],
   "source": [
    "import sklearn.datasets as skd\n",
    "import numpy as np\n",
    "import pandas as pd\n",
    "import random\n",
    "import math\n",
    "from sklearn.model_selection import train_test_split\n",
    "import dill, pickle"
   ]
  },
  {
   "cell_type": "code",
   "execution_count": 42,
   "id": "3e51e6a9",
   "metadata": {},
   "outputs": [],
   "source": [
    "def multiply(a,b):\n",
    "    return a*b\n",
    "\n",
    "def subtract(a,b):\n",
    "    return a-b\n",
    "\n",
    "def add(a,b):\n",
    "    return a+b\n",
    "\n",
    "def divide(a,b):\n",
    "    return a/b\n",
    "\n",
    "def exponentiate(a,b):\n",
    "    return a**b"
   ]
  },
  {
   "cell_type": "code",
   "execution_count": 2,
   "id": "0311eca1",
   "metadata": {},
   "outputs": [],
   "source": [
    "iris = skd.load_iris()"
   ]
  },
  {
   "cell_type": "code",
   "execution_count": 18,
   "id": "5c75b712",
   "metadata": {},
   "outputs": [],
   "source": [
    "xIris = iris.data\n",
    "yIris = iris.target\n",
    "\n",
    "idx = yIris[yIris<=1]\n",
    "\n",
    "xIris = xIris[idx]\n",
    "yIris = yIris[idx]"
   ]
  },
  {
   "cell_type": "code",
   "execution_count": 55,
   "id": "c20bbcc4",
   "metadata": {},
   "outputs": [],
   "source": [
    "x_train,x_test,y_train,y_test = train_test_split(xIris,yIris,test_size = 0.2,random_state =0)"
   ]
  },
  {
   "cell_type": "code",
   "execution_count": 22,
   "id": "f547462d",
   "metadata": {},
   "outputs": [],
   "source": [
    "weights = np.zeros(xIris.shape[1])\n",
    "bias = 0"
   ]
  },
  {
   "cell_type": "code",
   "execution_count": 51,
   "id": "c8b134a0",
   "metadata": {},
   "outputs": [],
   "source": [
    "# forward pass for a single entry\n",
    "\n",
    "# random input\n",
    "inputs = [random.randint(4,5),random.randint(3,5),random.randint(1,2),random.randint(0,1)]\n",
    "\n",
    "ans = bias\n",
    "for w,inp in zip(weights,inputs):\n",
    "    ans = add(ans,multiply(w,inp))\n",
    "\n",
    "ans = divide(1,add(1,exponentiate(math.e,multiply(-1,ans))))\n"
   ]
  },
  {
   "cell_type": "code",
   "execution_count": null,
   "id": "56f5f998",
   "metadata": {},
   "outputs": [],
   "source": [
    "# backward pass for a single entry (don't have to do in FHE)\n",
    "\n",
    "\n",
    "\n"
   ]
  },
  {
   "cell_type": "code",
   "execution_count": 73,
   "id": "03d57e0e",
   "metadata": {},
   "outputs": [],
   "source": [
    "def sigmoid(a):\n",
    "    return 1/(1+math.e**(-a))\n",
    "\n",
    "def sigmoid_deriv_formula(a):\n",
    "    val = sigmoid(a)\n",
    "    return val*(1-val)\n",
    "\n",
    "def sigmoid_deriv_first_principle(a):\n",
    "    h = 1e-6\n",
    "    return (sigmoid(a+h) - sigmoid(a))/h\n",
    "\n",
    "def logloss(a,y):\n",
    "    return -y*math.log(a)-(1-y)*math.log(1-a)"
   ]
  },
  {
   "cell_type": "code",
   "execution_count": null,
   "id": "f6d2dc56",
   "metadata": {},
   "outputs": [],
   "source": []
  },
  {
   "cell_type": "code",
   "execution_count": null,
   "id": "26e4b379",
   "metadata": {},
   "outputs": [],
   "source": []
  }
 ],
 "metadata": {
  "kernelspec": {
   "display_name": "Python 3",
   "language": "python",
   "name": "python3"
  },
  "language_info": {
   "codemirror_mode": {
    "name": "ipython",
    "version": 3
   },
   "file_extension": ".py",
   "mimetype": "text/x-python",
   "name": "python",
   "nbconvert_exporter": "python",
   "pygments_lexer": "ipython3",
   "version": "3.8.8"
  }
 },
 "nbformat": 4,
 "nbformat_minor": 5
}
